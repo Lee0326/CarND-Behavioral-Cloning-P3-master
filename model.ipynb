{
 "cells": [
  {
   "cell_type": "code",
   "execution_count": 1,
   "metadata": {
    "collapsed": true
   },
   "outputs": [],
   "source": [
    "import csv\n",
    "import cv2\n",
    "import numpy as np\n",
    "lines = []\n",
    "with open('../data/driving_log.csv') as csvfile:\n",
    "    reader = csv.reader(csvfile)\n",
    "    for line in reader:\n",
    "        lines.append(line)\n",
    "        \n",
    "images = []\n",
    "measurements = []\n",
    "correction = 0.2 ##angle correction to the angle corresponding left and right camera \n",
    "for line in lines:\n",
    "    for i in range(3):\n",
    "        source_path = line[i]\n",
    "        filename = source_path.split('\\\\')[-1]\n",
    "        current_path = '..\\\\data\\\\IMG\\\\' + filename\n",
    "        bgr = cv2.imread(current_path)\n",
    "        image = bgr[...,::-1] # convert the bgr image read from cv2 to rgb format\n",
    "        images.append(image)\n",
    "        \n",
    "        measurement = float(line[3])\n",
    "        if i==0:\n",
    "            measurements.append(measurement)\n",
    "        elif i==1:\n",
    "            measurements.append(measurement+correction)\n",
    "        elif i==2:\n",
    "            measurements.append(measurement-correction)\n",
    "\n",
    "\n",
    "    \n"
   ]
  },
  {
   "cell_type": "code",
   "execution_count": 2,
   "metadata": {
    "collapsed": true
   },
   "outputs": [],
   "source": [
    "X_train = np.array(images)\n",
    "y_train = np.array(measurements)"
   ]
  },
  {
   "cell_type": "code",
   "execution_count": 3,
   "metadata": {},
   "outputs": [
    {
     "name": "stderr",
     "output_type": "stream",
     "text": [
      "Using TensorFlow backend.\n",
      "G:\\Users\\Lee\\Anaconda3\\lib\\site-packages\\ipykernel_launcher.py:10: UserWarning: Update your `Conv2D` call to the Keras 2 API: `Conv2D(24, (5, 5), activation=\"relu\", strides=(2, 2))`\n",
      "  # Remove the CWD from sys.path while we load stuff.\n",
      "G:\\Users\\Lee\\Anaconda3\\lib\\site-packages\\ipykernel_launcher.py:11: UserWarning: Update your `Conv2D` call to the Keras 2 API: `Conv2D(36, (5, 5), activation=\"relu\", strides=(2, 2))`\n",
      "  # This is added back by InteractiveShellApp.init_path()\n",
      "G:\\Users\\Lee\\Anaconda3\\lib\\site-packages\\ipykernel_launcher.py:12: UserWarning: Update your `Conv2D` call to the Keras 2 API: `Conv2D(48, (5, 5), activation=\"relu\", strides=(2, 2))`\n",
      "  if sys.path[0] == '':\n"
     ]
    },
    {
     "name": "stdout",
     "output_type": "stream",
     "text": [
      "Train on 28176 samples, validate on 7044 samples\n",
      "Epoch 1/3\n",
      "28176/28176 [==============================] - 192s 7ms/step - loss: 0.0608 - val_loss: 0.1156\n",
      "Epoch 2/3\n",
      "28176/28176 [==============================] - 187s 7ms/step - loss: 0.0512 - val_loss: 0.1020\n",
      "Epoch 3/3\n",
      "28176/28176 [==============================] - 187s 7ms/step - loss: 0.0474 - val_loss: 0.1019\n",
      "model saved\n"
     ]
    }
   ],
   "source": [
    "from keras.models import Sequential\n",
    "from keras.layers import Flatten, Dense, Lambda, Cropping2D, Dropout\n",
    "from keras.layers.convolutional import Conv2D\n",
    "from keras.layers.pooling import MaxPooling2D\n",
    "import keras\n",
    "import matplotlib.pyplot as plt\n",
    "model = Sequential()\n",
    "model.add(Lambda(lambda x: x/255.0 - 0.5, input_shape = (160,320,3)))\n",
    "model.add(Cropping2D(cropping=((65,30),(0,0))))\n",
    "model.add(Conv2D(24,(5,5),subsample=(2,2),activation=\"relu\"))\n",
    "model.add(Conv2D(36,(5,5),subsample=(2,2),activation=\"relu\"))\n",
    "model.add(Conv2D(48,(5,5),subsample=(2,2),activation=\"relu\"))\n",
    "model.add(Conv2D(64,(3,3),activation=\"relu\"))\n",
    "model.add(Conv2D(64,(3,3),activation=\"relu\"))\n",
    "model.add(Dropout(0.5)) # dropout rate set to be 0.5\n",
    "model.add(Flatten())\n",
    "model.add(Dense(100))\n",
    "model.add(Dense(50))\n",
    "model.add(Dense(10))\n",
    "model.add(Dense(1))\n",
    "Adam = keras.optimizers.Adam(lr=0.0003)\n",
    "model.compile(loss='mse',optimizer=Adam)\n",
    "\n",
    "history_object = model.fit(X_train, y_train, validation_split=0.2,shuffle=True,epochs = 3,verbose = 1)\n",
    "model.save('model.h5')\n",
    "print('model saved')\n"
   ]
  },
  {
   "cell_type": "code",
   "execution_count": 4,
   "metadata": {
    "scrolled": true
   },
   "outputs": [
    {
     "name": "stdout",
     "output_type": "stream",
     "text": [
      "dict_keys(['val_loss', 'loss'])\n"
     ]
    },
    {
     "data": {
      "image/png": "[encoded data removed]",
      "text/plain": [
       "<Figure size 432x288 with 1 Axes>"
      ]
     },
     "metadata": {},
     "output_type": "display_data"
    }
   ],
   "source": [
    "print(history_object.history.keys())\n",
    "\n",
    "### plot the training and validation loss for each epoch\n",
    "plt.plot(history_object.history['loss'])\n",
    "plt.plot(history_object.history['val_loss'])\n",
    "plt.title('model mean squared error loss')\n",
    "plt.ylabel('mean squared error loss')\n",
    "plt.xlabel('epoch')\n",
    "plt.legend(['training set', 'validation set'], loc='right')\n",
    "plt.show()"
   ]
  }
 ],
 "metadata": {
  "kernelspec": {
   "display_name": "Python 3",
   "language": "python",
   "name": "python3"
  },
  "language_info": {
   "codemirror_mode": {
    "name": "ipython",
    "version": 3
   },
   "file_extension": ".py",
   "mimetype": "text/x-python",
   "name": "python",
   "nbconvert_exporter": "python",
   "pygments_lexer": "ipython3",
   "version": "3.6.2"
  }
 },
 "nbformat": 4,
 "nbformat_minor": 2
}
